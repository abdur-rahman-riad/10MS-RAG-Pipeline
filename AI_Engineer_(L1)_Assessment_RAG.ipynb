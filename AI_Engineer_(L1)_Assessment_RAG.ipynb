{
  "cells": [
    {
      "cell_type": "markdown",
      "source": [
        "**Necessary Libraries**"
      ],
      "metadata": {
        "id": "ZtuV1x8eaNRm"
      },
      "id": "ZtuV1x8eaNRm"
    },
    {
      "cell_type": "code",
      "source": [
        "!apt-get install -y poppler-utils tesseract-ocr tesseract-ocr-ben\n",
        "!pip install gdown pytesseract pdf2image faiss-cpu sentence-transformers transformers gradio"
      ],
      "metadata": {
        "id": "LOCGfQCgx4jl"
      },
      "id": "LOCGfQCgx4jl",
      "execution_count": null,
      "outputs": []
    },
    {
      "cell_type": "code",
      "execution_count": null,
      "id": "113a1809",
      "metadata": {
        "id": "113a1809"
      },
      "outputs": [],
      "source": [
        "import gdown\n",
        "from pdf2image import convert_from_path\n",
        "import pytesseract\n",
        "import unicodedata\n",
        "import re\n",
        "from sentence_transformers import SentenceTransformer\n",
        "import numpy as np\n",
        "import faiss\n",
        "from transformers import pipeline\n",
        "import gradio as gr"
      ]
    },
    {
      "cell_type": "markdown",
      "source": [
        "**Load Dataset**"
      ],
      "metadata": {
        "id": "4x69qIZpam62"
      },
      "id": "4x69qIZpam62"
    },
    {
      "cell_type": "code",
      "source": [
        "file_id = \"1YVPzZgXp6nyklR6SfNmLtV8tZJXqJtMH\"\n",
        "file_url = f\"https://drive.google.com/uc?id={file_id}\"\n",
        "output = \"HSC26-Bangla1st-Paper.pdf\"\n",
        "gdown.download(file_url, output, quiet=False)"
      ],
      "metadata": {
        "id": "NNKo667jx7CM"
      },
      "id": "NNKo667jx7CM",
      "execution_count": null,
      "outputs": []
    },
    {
      "cell_type": "markdown",
      "source": [
        "**OCR from PDF**"
      ],
      "metadata": {
        "id": "FkU_UM4oas-l"
      },
      "id": "FkU_UM4oas-l"
    },
    {
      "cell_type": "code",
      "source": [
        "images = convert_from_path(output)\n",
        "text = \"\"\n",
        "for i, img in enumerate(images):\n",
        "    print(f\"OCR on page {i+1}/{len(images)}...\")\n",
        "    text += pytesseract.image_to_string(img, lang='ben') + \"\\n\\n\""
      ],
      "metadata": {
        "id": "C2AgT-gDx-j7"
      },
      "id": "C2AgT-gDx-j7",
      "execution_count": null,
      "outputs": []
    },
    {
      "cell_type": "markdown",
      "source": [
        "**Clean Text**"
      ],
      "metadata": {
        "id": "Io_QH25Ha0R9"
      },
      "id": "Io_QH25Ha0R9"
    },
    {
      "cell_type": "code",
      "execution_count": null,
      "id": "4f7502a7",
      "metadata": {
        "id": "4f7502a7"
      },
      "outputs": [],
      "source": [
        "def clean_bangla_text(text):\n",
        "    text = unicodedata.normalize(\"NFC\", text)\n",
        "    text = re.sub(r\"[^\\S]+\", \" \", text)\n",
        "    text = re.sub(r\"[\\u200c\\u200d]\", \"\", text)\n",
        "    return text.strip()\n",
        "\n",
        "text = clean_bangla_text(text)"
      ]
    },
    {
      "cell_type": "markdown",
      "source": [
        "**Extract MCQ Answer**"
      ],
      "metadata": {
        "id": "HwLQFnIea7Ab"
      },
      "id": "HwLQFnIea7Ab"
    },
    {
      "cell_type": "code",
      "execution_count": null,
      "id": "d95b781d",
      "metadata": {
        "id": "d95b781d"
      },
      "outputs": [],
      "source": [
        "def extract_mcq_answer_mapping(raw_text):\n",
        "    page_41 = raw_text.split(\"৪১।\")[1] if \"৪১।\" in raw_text else raw_text\n",
        "    matches = re.findall(r\"(\\d+)\\s+([কখগঘ])\", page_41)\n",
        "    return {int(num): letter for num, letter in matches}\n",
        "\n",
        "mcq_answers = extract_mcq_answer_mapping(text)"
      ]
    },
    {
      "cell_type": "markdown",
      "source": [
        "**Chunk Text**"
      ],
      "metadata": {
        "id": "WXysboKnbAjo"
      },
      "id": "WXysboKnbAjo"
    },
    {
      "cell_type": "code",
      "execution_count": null,
      "id": "ff0493e6",
      "metadata": {
        "id": "ff0493e6"
      },
      "outputs": [],
      "source": [
        "paragraphs = [p.strip() for p in text.split(\"\\n\\n\") if p.strip()]\n",
        "chunk_size = 800\n",
        "chunk_overlap = 100\n",
        "\n",
        "chunks = []\n",
        "for para in paragraphs:\n",
        "    for i in range(0, len(para), chunk_size - chunk_overlap):\n",
        "        chunks.append(para[i:i + chunk_size])"
      ]
    },
    {
      "cell_type": "markdown",
      "source": [
        "**Embedding**"
      ],
      "metadata": {
        "id": "4R7OcF0qbGhQ"
      },
      "id": "4R7OcF0qbGhQ"
    },
    {
      "cell_type": "code",
      "source": [
        "embedder = SentenceTransformer(\"paraphrase-multilingual-MiniLM-L12-v2\")\n",
        "embeddings = embedder.encode(chunks, show_progress_bar=True)\n",
        "embeddings = np.array(embeddings).astype(\"float32\")\n",
        "\n",
        "index = faiss.IndexFlatL2(embeddings.shape[1])\n",
        "index.add(embeddings)"
      ],
      "metadata": {
        "id": "TK_hJSsiyBKp"
      },
      "id": "TK_hJSsiyBKp",
      "execution_count": null,
      "outputs": []
    },
    {
      "cell_type": "markdown",
      "source": [
        "**Retrieve**"
      ],
      "metadata": {
        "id": "GiU-jAbNbLqV"
      },
      "id": "GiU-jAbNbLqV"
    },
    {
      "cell_type": "code",
      "execution_count": null,
      "id": "90b1afe5",
      "metadata": {
        "id": "90b1afe5"
      },
      "outputs": [],
      "source": [
        "def retrieve_chunks(query, k=10):\n",
        "    query_vec = embedder.encode([query]).astype(\"float32\")\n",
        "    D, I = index.search(query_vec, k)\n",
        "    return [chunks[i] for i in I[0]]"
      ]
    },
    {
      "cell_type": "markdown",
      "source": [
        "**QA Model**"
      ],
      "metadata": {
        "id": "6ZDar0DIbQfN"
      },
      "id": "6ZDar0DIbQfN"
    },
    {
      "cell_type": "code",
      "source": [
        "qa_pipeline = pipeline(\"question-answering\", model=\"deepset/xlm-roberta-base-squad2\")"
      ],
      "metadata": {
        "id": "XFKsfvMnyDk2"
      },
      "id": "XFKsfvMnyDk2",
      "execution_count": null,
      "outputs": []
    },
    {
      "cell_type": "markdown",
      "source": [
        "**Mapping Bangla Letter to Option**"
      ],
      "metadata": {
        "id": "a6EMVdTvbWTh"
      },
      "id": "a6EMVdTvbWTh"
    },
    {
      "cell_type": "code",
      "execution_count": null,
      "id": "a72c19d1",
      "metadata": {
        "id": "a72c19d1"
      },
      "outputs": [],
      "source": [
        "bangla_option_map = {\n",
        "    \"ক\": 0, \"খ\": 1, \"গ\": 2, \"ঘ\": 3\n",
        "}"
      ]
    },
    {
      "cell_type": "markdown",
      "source": [
        "**QA Answer Generator with MCQ support**"
      ],
      "metadata": {
        "id": "t-ap8WVVbd7q"
      },
      "id": "t-ap8WVVbd7q"
    },
    {
      "cell_type": "code",
      "execution_count": null,
      "id": "87c58f0e",
      "metadata": {
        "id": "87c58f0e"
      },
      "outputs": [],
      "source": [
        "def generate_answer(query):\n",
        "    context = \"\\n\\n\".join(retrieve_chunks(query, k=10))\n",
        "    result = qa_pipeline(question=query, context=context)\n",
        "    answer = result[\"answer\"]\n",
        "\n",
        "    match = re.search(r\"(\\d+)।\", query)\n",
        "    if match:\n",
        "        q_no = int(match.group(1))\n",
        "        option_letter = mcq_answers.get(q_no)\n",
        "        if option_letter:\n",
        "            pattern = rf\"{q_no}।(.+?)(?=\\d+।|$)\"\n",
        "            mcq_block = re.search(pattern, text, re.DOTALL)\n",
        "            if mcq_block:\n",
        "                options = re.findall(r\"\\((ক|খ|গ|ঘ)\\)\\s*([^\\(\\)\\n\\r]+)\", mcq_block.group(1))\n",
        "                for opt, val in options:\n",
        "                    if opt == option_letter:\n",
        "                        return val.strip()\n",
        "    return answer"
      ]
    },
    {
      "cell_type": "markdown",
      "source": [
        "**Live Demo App**"
      ],
      "metadata": {
        "id": "kOMwiQvDboYp"
      },
      "id": "kOMwiQvDboYp"
    },
    {
      "cell_type": "code",
      "source": [
        "def qa_interface(query):\n",
        "    return generate_answer(query)\n",
        "\n",
        "gr.Interface(fn=qa_interface,\n",
        "             inputs=gr.Textbox(label=\"প্রশ্ন লিখুন (বাংলা বা English)\"),\n",
        "             outputs=gr.Textbox(label=\"উত্তর\"),\n",
        "             title=\"10MS RAG Pipeline\").launch(share=True)"
      ],
      "metadata": {
        "id": "_c2NWNvkyGCh"
      },
      "id": "_c2NWNvkyGCh",
      "execution_count": null,
      "outputs": []
    }
  ],
  "metadata": {
    "colab": {
      "provenance": []
    },
    "language_info": {
      "name": "python"
    },
    "kernelspec": {
      "name": "python3",
      "display_name": "Python 3"
    }
  },
  "nbformat": 4,
  "nbformat_minor": 5
}